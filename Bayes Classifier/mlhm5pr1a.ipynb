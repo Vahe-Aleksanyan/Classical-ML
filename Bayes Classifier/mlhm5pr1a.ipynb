{
  "nbformat": 4,
  "nbformat_minor": 0,
  "metadata": {
    "colab": {
      "provenance": []
    },
    "kernelspec": {
      "name": "python3",
      "display_name": "Python 3"
    },
    "language_info": {
      "name": "python"
    }
  },
  "cells": [
    {
      "cell_type": "code",
      "execution_count": 10,
      "metadata": {
        "colab": {
          "base_uri": "https://localhost:8080/"
        },
        "id": "OFIq_i9jzvbk",
        "outputId": "6412ebc8-62a4-49e2-a7c5-c86880365e1e"
      },
      "outputs": [
        {
          "output_type": "stream",
          "name": "stdout",
          "text": [
            "here is the predicted class by multinomial classifier for the unknown fruit is: Banana\n",
            "here is the predicted class by gaussian classifier for the unknown fruit is: Banana\n",
            "here is the predicted class by bernoulli classifier for the unknown fruit is: Banana\n"
          ]
        }
      ],
      "source": [
        "import numpy as np\n",
        "from sklearn.naive_bayes import GaussianNB, MultinomialNB, BernoulliNB\n",
        "\n",
        "import random\n",
        "\n",
        "\n",
        "# creat the dataset with three types of fruits: Mango, Banana, and Other\n",
        "fruits = [\"Mango\"] * 650 + [\"Banana\"] * 400 + [\"Others\"] * 150\n",
        "\n",
        "\n",
        "\n",
        "# create the attributes lists for each fruit type with \"Yes\" and \"No\" values based on counts\n",
        "yellow = [\"Yes\"] * 200 + [\"No\"] * 450 + [\"Yes\"] * 320 + [\"No\"] * 80 + [\"Yes\"] * 50 + [\"No\"] * 100\n",
        "sweet = [\"Yes\"] * 300 + [\"No\"] * 350 + [\"Yes\"] * 370 + [\"No\"] * 30 + [\"Yes\"] * 140 + [\"No\"] * 10\n",
        "long = [\"Yes\"] * 100 + [\"No\"] * 550 + [\"Yes\"] * 350 + [\"No\"] * 50 + [\"Yes\"] * 70 + [\"No\"] * 80\n",
        "\n",
        "# shuffle the attributes lists independently\n",
        "random.seed(100)\n",
        "random.shuffle(yellow)\n",
        "random.seed(101)\n",
        "random.shuffle(sweet)\n",
        "random.seed(102)\n",
        "random.shuffle(long)\n",
        "\n",
        "yellow_counts = [yellow[:650].count(\"Yes\"), yellow[650:1050].count(\"Yes\"), yellow[1050:].count(\"Yes\")]\n",
        "sweet_counts = [sweet[:650].count(\"Yes\"), sweet[650:1050].count(\"Yes\"), sweet[1050:].count(\"Yes\")]\n",
        "long_counts = [long[:650].count(\"Yes\"), long[650:1050].count(\"Yes\"), long[1050:].count(\"Yes\")]\n",
        "\n",
        "# Use these counts to create the X array for features\n",
        "X = np.array([yellow_counts, sweet_counts, long_counts]).T  # Transpose to get the correct shape\n",
        "\n",
        "#  Define labels for fruit types: Mango, Banana, Others\n",
        "y = np.array(['Mango', 'Banana', 'Others'])\n",
        "\n",
        "\n",
        "\n",
        "# Initialize three different classifiers\n",
        "clf1 = MultinomialNB()\n",
        "clf2 = GaussianNB()\n",
        "clf3 = BernoulliNB()\n",
        "\n",
        "\n",
        "# train the classifiers on the dataset\n",
        "clf1.fit(X, y)\n",
        "clf2.fit(X, y)\n",
        "clf3.fit(X, y)\n",
        "\n",
        "#  create a new unknown fruit feature array -n  # Yellow, Sweet, Long\n",
        "unknown_fruit = np.array([[1, 1, 1]])\n",
        "\n",
        "# predict the class for the unknown fruit using each classifier\n",
        "prediction_multinomial = clf1.predict(unknown_fruit)\n",
        "prediction_gaussian = clf2.predict(unknown_fruit)\n",
        "prediction_bernoulli = clf3.predict(unknown_fruit)\n",
        "\n",
        "print(f\"here is the predicted class by multinomial classifier for the unknown fruit is: {prediction_multinomial[0]}\")\n",
        "print(f\"here is the predicted class by gaussian classifier for the unknown fruit is: {prediction_multinomial[0]}\")\n",
        "print(f\"here is the predicted class by bernoulli classifier for the unknown fruit is: {prediction_multinomial[0]}\")\n",
        "\n",
        "# we have same result as we did by hand, all predicted are banana\n"
      ]
    },
    {
      "cell_type": "code",
      "source": [],
      "metadata": {
        "id": "mGD8RMBxAb1F"
      },
      "execution_count": null,
      "outputs": []
    }
  ]
}