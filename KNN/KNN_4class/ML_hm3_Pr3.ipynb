{
  "nbformat": 4,
  "nbformat_minor": 0,
  "metadata": {
    "colab": {
      "provenance": []
    },
    "kernelspec": {
      "name": "python3",
      "display_name": "Python 3"
    },
    "language_info": {
      "name": "python"
    }
  },
  "cells": [
    {
      "cell_type": "code",
      "execution_count": 2,
      "metadata": {
        "colab": {
          "base_uri": "https://localhost:8080/"
        },
        "id": "R2khIwKEwLRx",
        "outputId": "baef6931-a6a5-4630-bfef-4aebd78d657b"
      },
      "outputs": [
        {
          "output_type": "stream",
          "name": "stdout",
          "text": [
            "Train Classification Report:\n",
            "               precision    recall  f1-score   support\n",
            "\n",
            "           0       0.84      0.95      0.89       190\n",
            "           1       0.94      0.93      0.93       204\n",
            "           2       0.89      0.76      0.82       211\n",
            "           3       0.88      0.92      0.90       195\n",
            "\n",
            "    accuracy                           0.89       800\n",
            "   macro avg       0.89      0.89      0.89       800\n",
            "weighted avg       0.89      0.89      0.89       800\n",
            "\n",
            "Test Classification Report:\n",
            "               precision    recall  f1-score   support\n",
            "\n",
            "           0       0.77      0.96      0.85        55\n",
            "           1       0.95      0.81      0.87        47\n",
            "           2       0.83      0.67      0.74        43\n",
            "           3       0.91      0.93      0.92        55\n",
            "\n",
            "    accuracy                           0.85       200\n",
            "   macro avg       0.86      0.84      0.85       200\n",
            "weighted avg       0.86      0.85      0.85       200\n",
            "\n"
          ]
        }
      ],
      "source": [
        "# Import necessary libraries\n",
        "from sklearn.datasets import make_classification\n",
        "from sklearn.model_selection import train_test_split, GridSearchCV\n",
        "from sklearn.neighbors import KNeighborsClassifier\n",
        "from sklearn.metrics import classification_report\n",
        "\n",
        "# Step 1: Generate a Simulated Dataset for 4-Class Classification\n",
        "# Generate a synthetic dataset with specific characteristics:\n",
        "# - 1000 samples\n",
        "# - 2 informative features\n",
        "# - 0 redundant features\n",
        "# - 4 classes\n",
        "# - 1 cluster per class\n",
        "# Set the random state to 16 for reproducibility\n",
        "X, y = make_classification(n_samples=1000, n_features=2, n_informative=2, n_redundant=0, n_classes=4, n_clusters_per_class=1, random_state=16)\n",
        "\n",
        "# Step 2: Split the Data into Training and Test Sets\n",
        "# Split the generated dataset into training (80%) and test (20%) sets.\n",
        "# Use a random state of 42 to ensure reproducibility.\n",
        "X_train, X_test, y_train, y_test = train_test_split(X, y, test_size=0.2, random_state=42)\n",
        "\n",
        "# Step 3: Apply K-Nearest Neighbors with Hyperparameter Tuning\n",
        "# Define a hyperparameter grid for the number of neighbors (k).\n",
        "param_grid = {'n_neighbors': [3, 5, 7, 9, 11]}\n",
        "\n",
        "# Create a K-Nearest Neighbors classifier.\n",
        "knn = KNeighborsClassifier()\n",
        "\n",
        "# Perform hyperparameter tuning using 5-fold cross-validation.\n",
        "grid_search = GridSearchCV(knn, param_grid, cv=5)\n",
        "grid_search.fit(X_train, y_train)\n",
        "\n",
        "# Get the best number of neighbors (k) from the hyperparameter tuning results.\n",
        "best_k = grid_search.best_params_['n_neighbors']\n",
        "\n",
        "# Step 4: Model Validation\n",
        "# Create the final K-Nearest Neighbors model using the best k.\n",
        "knn_final = KNeighborsClassifier(n_neighbors=best_k)\n",
        "knn_final.fit(X_train, y_train)\n",
        "\n",
        "# Make predictions on the training and test sets.\n",
        "y_train_pred = knn_final.predict(X_train)\n",
        "y_test_pred = knn_final.predict(X_test)\n",
        "\n",
        "# Step 5: Classification Reports\n",
        "# Evaluate the model's performance using classification reports.\n",
        "train_classification_report = classification_report(y_train, y_train_pred)\n",
        "test_classification_report = classification_report(y_test, y_test_pred)\n",
        "\n",
        "# Print the classification reports for the training and test sets.\n",
        "print(\"Train Classification Report:\\n\", train_classification_report)\n",
        "print(\"Test Classification Report:\\n\", test_classification_report)\n"
      ]
    }
  ]
}