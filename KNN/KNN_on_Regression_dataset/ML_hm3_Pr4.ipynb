{
  "nbformat": 4,
  "nbformat_minor": 0,
  "metadata": {
    "colab": {
      "provenance": []
    },
    "kernelspec": {
      "name": "python3",
      "display_name": "Python 3"
    },
    "language_info": {
      "name": "python"
    }
  },
  "cells": [
    {
      "cell_type": "code",
      "execution_count": 2,
      "metadata": {
        "colab": {
          "base_uri": "https://localhost:8080/"
        },
        "id": "8HJfyqJyzADZ",
        "outputId": "d282b0e0-f476-49e3-edbe-e13882e686df"
      },
      "outputs": [
        {
          "output_type": "stream",
          "name": "stdout",
          "text": [
            "Train Mean Squared Error: 5.6193\n",
            "Test Mean Squared Error: 9.3193\n",
            "Train R-squared: 0.9964\n",
            "Test R-squared: 0.9941\n"
          ]
        }
      ],
      "source": [
        "from sklearn.datasets import make_regression\n",
        "from sklearn.model_selection import train_test_split, GridSearchCV\n",
        "from sklearn.neighbors import KNeighborsRegressor\n",
        "from sklearn.metrics import mean_squared_error, r2_score\n",
        "\n",
        "# Step 1: Generate a Simulated Regression Dataset\n",
        "X, y = make_regression(n_samples=1000, n_features=2, noise=0.1, random_state=42)\n",
        "\n",
        "# Step 2: Split the Data into Training and Test Sets\n",
        "X_train, X_test, y_train, y_test = train_test_split(X, y, test_size=0.2, random_state=42)\n",
        "\n",
        "# Step 3: Apply K-Nearest Neighbors with Hyperparameter Tuning\n",
        "param_grid = {'n_neighbors': [3, 5, 7, 9, 11]}\n",
        "knn = KNeighborsRegressor()\n",
        "grid_search = GridSearchCV(knn, param_grid, cv=5, scoring='neg_mean_squared_error')\n",
        "grid_search.fit(X_train, y_train)\n",
        "\n",
        "# Get the best number of neighbors (k) from hyperparameter tuning\n",
        "best_k = grid_search.best_params_['n_neighbors']\n",
        "\n",
        "# Step 4: Model Validation\n",
        "# Create the final KNN regression model with the best k\n",
        "knn_final = KNeighborsRegressor(n_neighbors=best_k)\n",
        "knn_final.fit(X_train, y_train)\n",
        "\n",
        "# Make predictions on the training and test sets\n",
        "y_train_pred = knn_final.predict(X_train)\n",
        "y_test_pred = knn_final.predict(X_test)\n",
        "\n",
        "# Step 5: Model Evaluation\n",
        "# Calculate Mean Squared Error (MSE) and R-squared for both training and test sets\n",
        "train_mse = mean_squared_error(y_train, y_train_pred)\n",
        "test_mse = mean_squared_error(y_test, y_test_pred)\n",
        "\n",
        "train_r2 = r2_score(y_train, y_train_pred)\n",
        "test_r2 = r2_score(y_test, y_test_pred)\n",
        "\n",
        "# Print the evaluation metrics\n",
        "print(f\"Train Mean Squared Error: {train_mse:.4f}\")\n",
        "print(f\"Test Mean Squared Error: {test_mse:.4f}\")\n",
        "print(f\"Train R-squared: {train_r2:.4f}\")\n",
        "print(f\"Test R-squared: {test_r2:.4f}\")\n"
      ]
    }
  ]
}